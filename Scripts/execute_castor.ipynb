{
 "cells": [
  {
   "cell_type": "code",
   "execution_count": null,
   "metadata": {},
   "outputs": [],
   "source": [
    "import os \n",
    "import sys \n",
    "\n",
    "sys.path.append(os.path.abspath('./'))\n",
    "\n",
    "from castor_source import comparison, read_excel, spectra_selection, build_templates, parameter_estimation"
   ]
  },
  {
   "cell_type": "markdown",
   "metadata": {},
   "source": [
    "# USER defined Input"
   ]
  },
  {
   "cell_type": "code",
   "execution_count": null,
   "metadata": {},
   "outputs": [],
   "source": [
    "sn_name = 'SN2015ap'\n",
    "sn_path = \"/home/andrea/Desktop/Castor 1.0/Application/data_lightcurves/\" + sn_name + \".dat\" \n",
    "print(sn_path)"
   ]
  },
  {
   "cell_type": "code",
   "execution_count": null,
   "metadata": {},
   "outputs": [],
   "source": [
    "training_path = \"/home/andrea/Desktop/Castor 1.0/Training_Set/\" \n",
    "training_set, training_type, training_red = read_excel(training_path)\n",
    "print(len(training_set))"
   ]
  },
  {
   "cell_type": "code",
   "execution_count": null,
   "metadata": {},
   "outputs": [],
   "source": [
    "out_path = \"/home/andrea/Desktop/Castor 1.0/Output/\"\n",
    "if not os.path.exists(out_path): \n",
    "    os.makedirs(out_path) "
   ]
  },
  {
   "cell_type": "markdown",
   "metadata": {},
   "source": [
    "# Executing CASTOR"
   ]
  },
  {
   "cell_type": "code",
   "execution_count": null,
   "metadata": {},
   "outputs": [],
   "source": [
    "class_0 = comparison(sn_name, sn_path, training_set, training_path)\n",
    "sn_new_set, sn_filters, sn_t0, err_t0, final_name, final_chi, ref_t0 = class_0.total_comparison(out_path)"
   ]
  },
  {
   "cell_type": "code",
   "execution_count": null,
   "metadata": {},
   "outputs": [],
   "source": [
    "class_1 = spectra_selection(final_name, ref_t0, training_path)\n",
    "ref_files, ref_sp_set, wave_range, spectral_filters, maximum_epoch = class_1.final_spectra_selection()"
   ]
  },
  {
   "cell_type": "code",
   "execution_count": null,
   "metadata": {},
   "outputs": [],
   "source": [
    "class_2 = build_templates(sn_name, sn_new_set, sn_filters, sn_t0, wave_range, \n",
    "                          ref_sp_set, ref_files, ref_t0, maximum_epoch)\n",
    "\n",
    "gp_set, pred_set, time_series = class_2.total_templates(out_path, to_save=True)"
   ]
  },
  {
   "cell_type": "code",
   "execution_count": null,
   "metadata": {},
   "outputs": [],
   "source": [
    "class_3 = parameter_estimation(sn_t0, err_t0, sn_new_set, sn_filters, gp_set, spectral_filters, time_series, pred_set)\n",
    "class_3.total_estimation(out_path)"
   ]
  }
 ],
 "metadata": {
  "kernelspec": {
   "display_name": "Python 3",
   "language": "python",
   "name": "python3"
  },
  "language_info": {
   "codemirror_mode": {
    "name": "ipython",
    "version": 3
   },
   "file_extension": ".py",
   "mimetype": "text/x-python",
   "name": "python",
   "nbconvert_exporter": "python",
   "pygments_lexer": "ipython3",
   "version": "3.10.12"
  }
 },
 "nbformat": 4,
 "nbformat_minor": 2
}
